{
 "cells": [
  {
   "cell_type": "code",
   "execution_count": 5,
   "id": "f1e4dd2b-e8b2-443c-b645-a5d056f6c5f8",
   "metadata": {
    "tags": []
   },
   "outputs": [],
   "source": [
    "file_vi = open('/home/sophia/work_space/00.code_vistula/04_NLP_LargeLanguageModels/NLP/data_vi-en/train_vi.txt')\n",
    "file_en = open('/home/sophia/work_space/00.code_vistula/04_NLP_LargeLanguageModels/NLP/data_vi-en/train_en.txt')\n",
    "out_vi = open('/home/sophia/work_space/00.code_vistula/04_NLP_LargeLanguageModels/NLP/data_vi-en/data_vi.txt', 'w')\n",
    "out_en = open('/home/sophia/work_space/00.code_vistula/04_NLP_LargeLanguageModels/NLP/data_vi-en/data_en.txt', 'w')\n",
    "out_vi_long = open('/home/sophia/work_space/00.code_vistula/04_NLP_LargeLanguageModels/NLP/data_vi-en/data_long.txt', 'w')"
   ]
  },
  {
   "cell_type": "code",
   "execution_count": 7,
   "id": "c1eb8b1d-0bfe-4b64-bc12-7d0c1ec1e085",
   "metadata": {
    "tags": []
   },
   "outputs": [],
   "source": [
    "f_vi = file_vi.readlines()\n",
    "f_en = file_en.readlines()\n",
    "lenth = len(f_vi)\n",
    "count = 0\n",
    "\n",
    "for i in range(1, lenth):\n",
    "    if len(f_vi[i].split(\" \")) <= 40 and count <= 50000:\n",
    "        out_vi.write(f_vi[i])\n",
    "        out_en.write(f_en[i])\n",
    "        count += 1 \n",
    "            # print(count)\n",
    "    else:\n",
    "        out_vi_long.write(f_vi[i]\n"
   ]
  },
  {
   "cell_type": "code",
   "execution_count": 4,
   "id": "0f9cbe78-8614-4fbe-b91c-888ddfdcc9d9",
   "metadata": {
    "tags": []
   },
   "outputs": [],
   "source": [
    "file_vi.close()\n",
    "file_en.close()\n",
    "out_vi.close()\n",
    "out_en.close()"
   ]
  },
  {
   "cell_type": "code",
   "execution_count": null,
   "id": "c4e1d4d8-8d18-42d3-b538-823affa68a3f",
   "metadata": {},
   "outputs": [],
   "source": []
  },
  {
   "cell_type": "code",
   "execution_count": null,
   "id": "feb2ca7b-d525-4bab-8f79-a115fd29b823",
   "metadata": {},
   "outputs": [],
   "source": []
  },
  {
   "cell_type": "code",
   "execution_count": null,
   "id": "ae6d0cac-05c8-447b-ae00-5b7299376a32",
   "metadata": {},
   "outputs": [],
   "source": []
  }
 ],
 "metadata": {
  "kernelspec": {
   "display_name": "Python 3 (ipykernel)",
   "language": "python",
   "name": "python3"
  },
  "language_info": {
   "codemirror_mode": {
    "name": "ipython",
    "version": 3
   },
   "file_extension": ".py",
   "mimetype": "text/x-python",
   "name": "python",
   "nbconvert_exporter": "python",
   "pygments_lexer": "ipython3",
   "version": "3.7.12"
  }
 },
 "nbformat": 4,
 "nbformat_minor": 5
}
